{
 "cells": [
  {
   "attachments": {},
   "cell_type": "markdown",
   "metadata": {
    "pycharm": {
     "name": "#%% md\n"
    }
   },
   "source": [
    "## Zadania do wykonania\n",
    "\n",
    "### Zadanie 1\n",
    "\n",
    "Liczbę `pi` można obliczyć stosując metodę Monte Carlo. Polega ona na wielokrotnym obliczeniu nierówności:\n",
    "`x^2 + y^2 1`. Należy wylosować punkt `x', y'` [0,1] i jeśli spełnia on nierówność należy dodać go do sumy punktów spełniających nierówność. Następnie otrzymaną sumę należy pomnożyć przez cztery i podzielić przez liczbę wszystkich prób. Wyznacz dokładność zależną od liczby prób.\n",
    "\n",
    "Podpowiedź: do losowania można użyć funkcji `random.uniform`.\n",
    "\n",
    "### Zadanie 2\n",
    "\n",
    "Dla $k$ kolejek zaimplementuj karuzelowy algorytm przydziału zadań. Przykładowo dla trzech kolejek:\n",
    "1. `ABC`\n",
    "2. `DE`\n",
    "3. `F`\n",
    "\n",
    "Zostaną obsłużone zadania wg. kolejności: `ADFBEC`.\n",
    "\n",
    "### Zadanie 3\n",
    "\n",
    "Stwórz kolekcję książek zawierającą takie pola jak `tytuł`, `gatunek`, `autor`, `isbn`. Napisz trzy funkcje, (i) zapisującą kolekcję, (ii) odczytującą kolekcję, (iii) obliczająca statystykę wg. gatunku i autora.\n",
    "\n",
    "### Zadanie 4\n",
    "\n",
    "Za pomocą `namedtuple` i innych poznanych kolekcji zaimplementuj algorytm tworzący drzewo binarne."
   ]
  },
  {
   "cell_type": "code",
   "execution_count": 1,
   "metadata": {
    "pycharm": {
     "name": "#%%\n"
    }
   },
   "outputs": [
    {
     "name": "stdout",
     "output_type": "stream",
     "text": [
      "Liczba prób:\n",
      "5000000\n",
      "Trafiono:\n",
      "3927066\n",
      "Wynik Ilorazu:\n",
      "0.7854132\n",
      "Przybliżenie liczby (PI):\n",
      "3.1416528\n"
     ]
    }
   ],
   "source": [
    "# zad1\n",
    "import random\n",
    "\n",
    "sum = 0\n",
    "max = 5000000\n",
    "\n",
    "for i in range(1, max):\n",
    "    x = random.uniform(0, 1)\n",
    "    y = random.uniform(0, 1)\n",
    "    point = (x * x) + (y * y)\n",
    "    if (point <= 1):\n",
    "        sum += 1\n",
    "\n",
    "print(\"Liczba prób:\")\n",
    "print(max)\n",
    "print(\"Trafiono:\")\n",
    "print(sum)\n",
    "print(\"Wynik Ilorazu:\")\n",
    "print(sum / max)\n",
    "print(\"Przybliżenie liczby (PI):\")\n",
    "print(4 * (sum / max))"
   ]
  },
  {
   "cell_type": "code",
   "execution_count": null,
   "metadata": {
    "pycharm": {
     "name": "#%%\n"
    }
   },
   "outputs": [
    {
     "name": "stdout",
     "output_type": "stream",
     "text": [
      "Zadanie po wykonaniu algorytmu karuzelowego: 12345678\n"
     ]
    }
   ],
   "source": [
    "# zad2\n",
    "from collections import deque\n",
    "\n",
    "q = deque([\"147\", \"258\", \"36\"])\n",
    "\n",
    "\n",
    "def RoundRobin(task):\n",
    "    qlength = 0\n",
    "    queue = \"\"\n",
    "    for i, e in enumerate(task):\n",
    "        if (len(e) > qlength):\n",
    "            qlength = len(e)\n",
    "    for j in range(qlength):\n",
    "        for i, e in enumerate(task):\n",
    "            if (len(e) > 0):\n",
    "                queue += e[0:1]\n",
    "\n",
    "            task[i] = task[i][1:len(task[i])]\n",
    "    print(\"Zadanie po wykonaniu algorytmu karuzelowego:\", queue)\n",
    "\n",
    "\n",
    "RoundRobin(q)"
   ]
  },
  {
   "cell_type": "code",
   "execution_count": null,
   "metadata": {
    "pycharm": {
     "name": "#%%\n"
    }
   },
   "outputs": [
    {
     "name": "stdout",
     "output_type": "stream",
     "text": [
      "Najczęstszy autor: [('J.K.Rowling', 3)]\n",
      "Najczęstrzy gatunek: [('przygodowa', 3)]\n"
     ]
    }
   ],
   "source": [
    "'''zad3 Stwórz kolekcję książek zawierającą takie pola jak tytuł, gatunek, autor, isbn.\n",
    "Napisz trzy funkcje, (i) zapisującą kolekcję, (ii) odczytującą kolekcję, (iii) obliczająca statystykę wg. gatunku i autora.'''\n",
    "from collections import Counter\n",
    "import shelve\n",
    "\n",
    "books = [{'tytul': 'Czara ognia', 'gatunek': 'przygodowa', 'autor': 'J.K.Rowling', 'isbn': 'Numer książki '},\n",
    "         {'tytul': 'Zakon feniksa', 'gatunek': 'przygodowa', 'autor': 'J.K.Rowling', 'isbn': 'Numer książki '},\n",
    "         {'tytul': 'Książe półkrwi', 'gatunek': 'przygodowa', 'autor': 'J.K.Rowling', 'isbn': 'Numer książki'}]\n",
    "\n",
    "\n",
    "def write(books_db):\n",
    "    with shelve.open('books.db') as shelf:\n",
    "        for id, book in enumerate(books_db):\n",
    "            shelf[str(id)] = book\n",
    "\n",
    "\n",
    "def read(books_db):\n",
    "    with shelve.open('books.db') as shelf:\n",
    "        for id in enumerate(shelf):\n",
    "            books_db.append(shelf[str(id)])\n",
    "\n",
    "\n",
    "def stat(books_db):\n",
    "    type = map(lambda x: x['gatunek'], books_db)\n",
    "    ct = Counter(list(type))\n",
    "    ctg = ct.most_common()\n",
    "\n",
    "    author = map(lambda x: x['autor'], books_db)\n",
    "    ct = Counter(list(author))\n",
    "    cta = ct.most_common()\n",
    "\n",
    "    return {'cta': cta, 'ctg': ctg}\n",
    "\n",
    "\n",
    "result = stat(books)\n",
    "print(\"Najczęstszy autor: \" + str(result['cta']) + \"\\nNajczęstrzy gatunek: \" + str(result['ctg']))"
   ]
  },
  {
   "cell_type": "code",
   "execution_count": 4,
   "metadata": {
    "pycharm": {
     "name": "#%%\n"
    }
   },
   "outputs": [
    {
     "name": "stdout",
     "output_type": "stream",
     "text": [
      "Proste drzewo binarne: Galazka(value=1, left=Galazka(value=1, left=Galazka(value=0, left=None, right=None), right=Galazka(value=0, left=None, right=None)), right=Galazka(value=1, left=Galazka(value=0, left=None, right=None), right=Galazka(value=0, left=None, right=None)))\n"
     ]
    }
   ],
   "source": [
    "'''zad 4\n",
    "Za pomocą namedtuple i innych poznanych kolekcji zaimplementuj algorytm tworzący drzewo binarne.'''\n",
    "from collections import namedtuple\n",
    "\n",
    "Leaf = namedtuple('Galazka', ['value', 'left', 'right'])\n",
    "\n",
    "\n",
    "def addLeaf(highestLeaf):\n",
    "    if highestLeaf == 0:\n",
    "        leaf = Leaf(value=highestLeaf, left=None, right=None)\n",
    "    else:\n",
    "        leaf = Leaf(value=highestLeaf, left=addLeaf(highestLeaf - 1), right=addLeaf(highestLeaf - 1))\n",
    "    return leaf\n",
    "\n",
    "\n",
    "def createTree(highestLeaf):\n",
    "    root = Leaf(value=highestLeaf, left=addLeaf(highestLeaf), right=addLeaf(highestLeaf))\n",
    "    return root\n",
    "\n",
    "\n",
    "print(\"Proste drzewo binarne: \" + str(createTree(1)))"
   ]
  }
 ],
 "metadata": {
  "kernelspec": {
   "display_name": "Python 3",
   "language": "python",
   "name": "python3"
  },
  "language_info": {
   "codemirror_mode": {
    "name": "ipython",
    "version": 3
   },
   "file_extension": ".py",
   "mimetype": "text/x-python",
   "name": "python",
   "nbconvert_exporter": "python",
   "pygments_lexer": "ipython3",
   "version": "3.8.5"
  }
 },
 "nbformat": 4,
 "nbformat_minor": 1
}
