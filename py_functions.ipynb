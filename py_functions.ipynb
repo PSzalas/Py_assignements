{
 "cells": [
  {
   "attachments": {},
   "cell_type": "markdown",
   "metadata": {
    "pycharm": {
     "name": "#%% md\n"
    }
   },
   "source": [
    "## Zadania do wykonania\n",
    "\n",
    "### Zadanie 1\n",
    "\n",
    "Napisz dekorator, który autoryzuje użytkownika na podstawie podanego loginu i hasła. Do przechowywania danych należy wykorzystać klasę `shelve`. Do maskowania hasła można użyć następującej funkcji:"
   ]
  },
  {
   "cell_type": "code",
   "execution_count": 4,
   "metadata": {
    "pycharm": {
     "name": "#%%\n"
    }
   },
   "outputs": [
    {
     "data": {
      "text/plain": [
       "'48920eeebdf7c90e19268e5553678278a394dbd2eb8664631614c4b184f306877544f1031388e80da7b1b4adcda3d6b8ed5ba433aa9de375fff65163c62e6d52a3796e6c5f183645eafd446879fef6f0f966416d98a4626f026930c70c417f6e'"
      ]
     },
     "execution_count": 4,
     "metadata": {},
     "output_type": "execute_result"
    }
   ],
   "source": [
    "import hashlib, binascii\n",
    "from os import urandom\n",
    "\n",
    "def hash_password(password):\n",
    "    \"\"\"Hash a password for storing.\"\"\"\n",
    "    salt = hashlib.sha256(urandom(60)).hexdigest().encode('ascii')\n",
    "    pwdhash = hashlib.pbkdf2_hmac('sha512', password.encode('utf-8'),\n",
    "                                salt, 100000)\n",
    "    pwdhash = binascii.hexlify(pwdhash)\n",
    "    return (salt + pwdhash).decode('ascii')\n",
    "\n",
    "hash_password('test')"
   ]
  },
  {
   "cell_type": "markdown",
   "metadata": {
    "pycharm": {
     "name": "#%% md\n"
    }
   },
   "source": [
    "Należy pamiętać, że `salt` należy utworzyć raz i zachować w chronionym pliku.\n",
    "\n",
    "### Zadanie 2\n",
    "\n",
    "Napisz dekorator, który ogranicza argument funkcji do zadanego przedziału.\n",
    "\n",
    "### Zadanie 3\n",
    "\n",
    "Napisz generator, który dla zadanego wielomianu i przedziału wartości, zwróci jego miejsca zerowe. Dla pierwszego wywołania wynikiem ma być pierwsze miejsce zerowe, dla drugiego, drugie itd. Można zastosować naiwny algorytm sprawdzający kolejne wartości wielomianu. Można również zastosować kodowanie wielomianu bezpośrednio w kodzie języka Python: `x**n*x**(n-1)`."
   ]
  },
  {
   "cell_type": "code",
   "execution_count": 1,
   "metadata": {
    "pycharm": {
     "name": "#%%\n"
    },
    "scrolled": true
   },
   "outputs": [
    {
     "name": "stdout",
     "output_type": "stream",
     "text": [
      "Udało się zalogować!\n"
     ]
    }
   ],
   "source": [
    "# zad 1\n",
    "import shelve\n",
    "import hashlib, binascii\n",
    "from os import urandom\n",
    "\n",
    "\n",
    "def hash_password(password, x):\n",
    "    \"\"\"Hash a password for storing.\"\"\"\n",
    "    pwdhash = hashlib.pbkdf2_hmac('sha512', password.encode('utf-8'), x, 100000)\n",
    "    pwdhash = binascii.hexlify(pwdhash)\n",
    "    return (x + pwdhash).decode('ascii')\n",
    "\n",
    "\n",
    "def DEK(func):\n",
    "    def wrapper(*args):\n",
    "        file = shelve.open('haslo.db')\n",
    "        pwd = file['password']\n",
    "        salt = file['salt']\n",
    "        file.close()\n",
    "        if hash_password(args[1], salt) == hash_password(pwd, salt):\n",
    "            args = (args[0], args[1])\n",
    "        else:\n",
    "            args = (args[0], hash_password(args[1], salt))\n",
    "        func(*args)\n",
    "\n",
    "    return wrapper\n",
    "\n",
    "\n",
    "@DEK\n",
    "def log(login, pwd):\n",
    "    ret = \"Logowanie nie powiodło się :(\"\n",
    "    if (login == login and pwd == pwd):\n",
    "        ret = \"Udało się zalogować!\"\n",
    "    return print(ret)\n",
    "\n",
    "login = \"FDolas\"\n",
    "pwd = \"@!#dolas$%\"\n",
    "\n",
    "file = shelve.open('haslo.db')\n",
    "salt = hashlib.sha256(urandom(30)).hexdigest().encode('ascii')\n",
    "file['salt'] = salt\n",
    "file['password'] = pwd\n",
    "file.close()\n",
    "\n",
    "log(\"FDolas\", \"@!#dolas$%\")"
   ]
  },
  {
   "cell_type": "code",
   "execution_count": 2,
   "metadata": {
    "pycharm": {
     "name": "#%%\n"
    }
   },
   "outputs": [
    {
     "name": "stdout",
     "output_type": "stream",
     "text": [
      "75\n",
      "72\n",
      "0\n"
     ]
    }
   ],
   "source": [
    "'''zad2\n",
    "Napisz dekorator, który ogranicza argument funkcji do zadanego przedziału.'''\n",
    "\n",
    "\n",
    "def dekorator(function):\n",
    "    limit = 75\n",
    "\n",
    "    def wrap(value):\n",
    "        if value > limit:\n",
    "            value = limit\n",
    "        elif value < 0:\n",
    "            value = 0\n",
    "        function(value)\n",
    "\n",
    "    return wrap\n",
    "\n",
    "\n",
    "@dekorator\n",
    "def numberLimit(number):\n",
    "    print(number)\n",
    "\n",
    "\n",
    "numberLimit(115)\n",
    "numberLimit(72)\n",
    "numberLimit(-1)"
   ]
  },
  {
   "cell_type": "code",
   "execution_count": 3,
   "metadata": {
    "pycharm": {
     "name": "#%%\n"
    }
   },
   "outputs": [
    {
     "name": "stdout",
     "output_type": "stream",
     "text": [
      "Miejsca zerowe funkcji : x = -2.95 \n",
      "Miejsca zerowe funkcji : x = -0.24 \n",
      "Miejsca zerowe funkcji : x = 0.7 \n"
     ]
    }
   ],
   "source": [
    "'''zad 3\n",
    "Napisz generator, który dla zadanego wielomianu i przedziału wartości, zwróci jego miejsca zerowe.\n",
    "Dla pierwszego wywołania wynikiem ma być pierwsze miejsce zerowe, dla drugiego, drugie itd.\n",
    "Można zastosować naiwny algorytm sprawdzający kolejne wartości wielomianu.\n",
    "Można również zastosować kodowanie wielomianu bezpośrednio w kodzie języka Python\n",
    "x**n*x**(n-1)'''\n",
    "\n",
    "def polynomialZerosRange(pD, ft, start, end):\n",
    "    x = start\n",
    "    while x <= end:\n",
    "        y = 0\n",
    "        for i in range(len(pD)):\n",
    "            y += (pD[i] * (x ** ft[i]))\n",
    "        if round(y,2) == 0:\n",
    "            yield round(x,2)\n",
    "            x += 0.1\n",
    "        x += 0.001\n",
    "\n",
    "\n",
    "powerD = [2, 5, -3, -1]\n",
    "\n",
    "# 2x**3 + 5x**2 - 3x**1 - 1x**0\n",
    "for i in polynomialZerosRange(powerD, [3, 2, 1, 0], -30, 30):\n",
    "    print(f\"Miejsca zerowe funkcji : x = {i} \")\n"
   ]
  }
 ],
 "metadata": {
  "kernelspec": {
   "display_name": "Python 3",
   "language": "python",
   "name": "python3"
  },
  "language_info": {
   "codemirror_mode": {
    "name": "ipython",
    "version": 3
   },
   "file_extension": ".py",
   "mimetype": "text/x-python",
   "name": "python",
   "nbconvert_exporter": "python",
   "pygments_lexer": "ipython3",
   "version": "3.11.0"
  }
 },
 "nbformat": 4,
 "nbformat_minor": 1
}
