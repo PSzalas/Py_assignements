{
 "cells": [
  {
   "attachments": {},
   "cell_type": "markdown",
   "metadata": {},
   "source": [
    "## Zadania do wykonania\n",
    "\n",
    "### Zadanie 1\n",
    "\n",
    "Prześledź szybkość dodawania elementów do tablicy.\n",
    "\n",
    "### Zadanie 2\n",
    "\n",
    "Stwórz kalkulator do obliczenia aktualnej godziny w konkretnej strefie czasowej. Do zadania wystarczy utworzyć słownik z przesunięciami czasowymi z i od _UTC_.\n",
    "\n",
    "### Zadanie 3\n",
    "\n",
    "Zmodyfikuj kod związany z losowaniem liczb z przedziału od 1 do 10, tak aby obliczał przybliżoną wartość oczekiwaną obliczoną jako średnią (z prób). Uśrednienie ma nastąpić 1m razy (milion razy).\n",
    "\n",
    "### Zadanie 4\n",
    "\n",
    "Napisz algorytm obliczający kolejne liczby pierwsze dla zadanych wartości.\n",
    "\n",
    "### Zadanie 5\n",
    "\n",
    "Napisz program wyznaczający ciąg _Fibonacciego_ dla 93 elementu (lub 93 iteracji) w najszybszym możliwym czasie.\n",
    "\n",
    "### Zadanie 6\n",
    "\n",
    "Napisz program, który wyznacza odległość Levenshteina dla dwóch zadanych łańcuchów znaków."
   ]
  },
  {
   "cell_type": "code",
   "execution_count": 1,
   "metadata": {
    "pycharm": {
     "name": "#%%\n"
    }
   },
   "outputs": [
    {
     "name": "stdout",
     "output_type": "stream",
     "text": [
      "Dodawanie standardowe:  0.09996891021728516\n",
      "Dodawanie w pętli:  0.0\n",
      "Dla niewielkich ilości wywołań różnice są marginalne\n"
     ]
    }
   ],
   "source": [
    "#Zad 1\n",
    "import time\n",
    "\n",
    "array = []\n",
    "start=time.time()\n",
    "array.append(1)\n",
    "array.append(2)\n",
    "array.append(3)\n",
    "array.append(4)\n",
    "array.append(5)\n",
    "array.append(6)\n",
    "array.append(7)\n",
    "array.append(8)\n",
    "array.append(9)\n",
    "array.append(10)\n",
    "array.append(11)\n",
    "array.append(12)\n",
    "array.append(13)\n",
    "array.append(14)\n",
    "array.append(15)\n",
    "array.append(16)\n",
    "array.append(17)\n",
    "array.append(18)\n",
    "array.append(19)\n",
    "array.append(20)\n",
    "stop=time.time()\n",
    "\n",
    "print(\"Dodawanie standardowe: \", (stop - start) * 100)\n",
    "\n",
    "for i in range(20):\n",
    "    st=time.time()\n",
    "    array.append(i)\n",
    "    et=time.time()\n",
    "\n",
    "print(\"Dodawanie w pętli: \", (et - st) * 100)\n",
    "print(\"Dla niewielkich ilości wywołań różnice są marginalne\")"
   ]
  },
  {
   "cell_type": "code",
   "execution_count": 2,
   "metadata": {
    "pycharm": {
     "name": "#%%\n"
    }
   },
   "outputs": [
    {
     "name": "stdout",
     "output_type": "stream",
     "text": [
      "Sydney 24:49\n"
     ]
    }
   ],
   "source": [
    "'''Zad 2\n",
    "Stwórz kalkulator do obliczenia aktualnej godziny w konkretnej strefie czasowej.\n",
    "Do zadania wystarczy utworzyć słownik z przesunięciami czasowymi z i od UTC.'''\n",
    "\n",
    "from datetime import datetime\n",
    "\n",
    "cities = {\"Baker\" : -12, \"Samoa Amerykańskie\" : -11, \"Wyspy Cooka\" : -10, \"Anchorage\" : -9, \"Los Angeles\" : -8, \"Santa Fe\" : -7,\n",
    "         \"San Jose\" : -6, \"Atlanta\" : -5, \"Santo Domingo\" : -4, \"Buenos Aires\" : -3, \"Nuuk\" : -2, \"Praia\" : -1, \"Greenwich\" : 0,\n",
    "         \"Warszawa\" : 1, \"Helsinki\" : 2, \"Moskwa\" : 3, \"Dubaj\" : 4, \"Islamabad\" : 5, \"Dhaka\" : 6, \"Dżakarta\" : 7, \"Tajpej\" : 8,\n",
    "         \"Tokyo\" : 9, \"Sydney\" : 10, \"Numea\" : 11, \"Auckland\" : 12\n",
    "          }\n",
    "\n",
    "def whatHour(cityName):\n",
    "    if cityName in cities:\n",
    "        hour = datetime.utcnow().hour\n",
    "        minute = datetime.utcnow().minute\n",
    "        hour += cities[cityName]\n",
    "        return str(cityName)+\" \"+str(hour)+\":\"+str(minute)\n",
    "    else:\n",
    "        raise NotImplemented()\n",
    "\n",
    "\n",
    "print(whatHour(\"Sydney\"))"
   ]
  },
  {
   "cell_type": "code",
   "execution_count": 3,
   "metadata": {
    "pycharm": {
     "name": "#%%\n"
    }
   },
   "outputs": [
    {
     "name": "stdout",
     "output_type": "stream",
     "text": [
      "Przybliżona wartość oczekiwana: 5.501001\n"
     ]
    }
   ],
   "source": [
    "'''Zad3\n",
    "Zmodyfikuj kod związany z losowaniem liczb z przedziału od 1 do 10,\n",
    "tak aby obliczał przybliżoną wartość oczekiwaną obliczoną jako średnią (z prób).\n",
    "Uśrednienie ma nastąpić 1m razy (milion razy).'''\n",
    "\n",
    "from random import Random\n",
    "\n",
    "\n",
    "def calculateAverage(repeat):\n",
    "    rand = Random()\n",
    "    average = 0\n",
    "    for i in range(repeat):\n",
    "        average += rand.randint(1, 10)\n",
    "    return str(average / repeat)\n",
    "\n",
    "\n",
    "print(\"Przybliżona wartość oczekiwana: \" + calculateAverage(1000000))"
   ]
  },
  {
   "cell_type": "code",
   "execution_count": 4,
   "metadata": {
    "pycharm": {
     "name": "#%%\n"
    }
   },
   "outputs": [
    {
     "name": "stdout",
     "output_type": "stream",
     "text": [
      "Liczby pierwsze do: 100\n",
      "2\n",
      "3\n",
      "5\n",
      "7\n",
      "11\n",
      "13\n",
      "17\n",
      "19\n",
      "23\n",
      "29\n",
      "31\n",
      "37\n",
      "41\n",
      "43\n",
      "47\n",
      "53\n",
      "59\n",
      "61\n",
      "67\n",
      "71\n",
      "73\n",
      "79\n",
      "83\n",
      "89\n",
      "97\n"
     ]
    }
   ],
   "source": [
    "''' Zad4\n",
    " Napisz algorytm obliczający kolejne liczby pierwsze dla zadanych wartości. '''\n",
    "\n",
    "\n",
    "def primeNumbersTo(number):\n",
    "    print(\"Liczby pierwsze do: \" + str(number))\n",
    "    for i in range(2, number):\n",
    "        for j in range(2, i):\n",
    "            if (i % j) == 0:\n",
    "                break\n",
    "        else:\n",
    "            print(i)\n",
    "\n",
    "\n",
    "primeNumbersTo(100)"
   ]
  },
  {
   "cell_type": "code",
   "execution_count": 5,
   "metadata": {
    "pycharm": {
     "name": "#%%\n"
    }
   },
   "outputs": [
    {
     "name": "stdout",
     "output_type": "stream",
     "text": [
      "Ciąg Fibonacciego dla 93 elementu: \n",
      "1\n",
      "1\n",
      "2\n",
      "3\n",
      "5\n",
      "8\n",
      "13\n",
      "21\n",
      "34\n",
      "55\n",
      "89\n",
      "144\n",
      "233\n",
      "377\n",
      "610\n",
      "987\n",
      "1597\n",
      "2584\n",
      "4181\n",
      "6765\n",
      "10946\n",
      "17711\n",
      "28657\n",
      "46368\n",
      "75025\n",
      "121393\n",
      "196418\n",
      "317811\n",
      "514229\n",
      "832040\n",
      "1346269\n",
      "2178309\n",
      "3524578\n",
      "5702887\n",
      "9227465\n",
      "14930352\n",
      "24157817\n",
      "39088169\n",
      "63245986\n",
      "102334155\n",
      "165580141\n",
      "267914296\n",
      "433494437\n",
      "701408733\n",
      "1134903170\n",
      "1836311903\n",
      "2971215073\n",
      "4807526976\n",
      "7778742049\n",
      "12586269025\n",
      "20365011074\n",
      "32951280099\n",
      "53316291173\n",
      "86267571272\n",
      "139583862445\n",
      "225851433717\n",
      "365435296162\n",
      "591286729879\n",
      "956722026041\n",
      "1548008755920\n",
      "2504730781961\n",
      "4052739537881\n",
      "6557470319842\n",
      "10610209857723\n",
      "17167680177565\n",
      "27777890035288\n",
      "44945570212853\n",
      "72723460248141\n",
      "117669030460994\n",
      "190392490709135\n",
      "308061521170129\n",
      "498454011879264\n",
      "806515533049393\n",
      "1304969544928657\n",
      "2111485077978050\n",
      "3416454622906707\n",
      "5527939700884757\n",
      "8944394323791464\n",
      "14472334024676221\n",
      "23416728348467685\n",
      "37889062373143906\n",
      "61305790721611591\n",
      "99194853094755497\n",
      "160500643816367088\n",
      "259695496911122585\n",
      "420196140727489673\n",
      "679891637638612258\n",
      "1100087778366101931\n",
      "1779979416004714189\n",
      "2880067194370816120\n",
      "4660046610375530309\n",
      "7540113804746346429\n",
      "12200160415121876738\n"
     ]
    }
   ],
   "source": [
    "'''Zad5\n",
    "Napisz program wyznaczający ciąg Fibonacciego dla 93 elementu (lub 93 iteracji) w najszybszym możliwym czasie.'''\n",
    "\n",
    "\n",
    "def FibonacciSequence(number):\n",
    "    a = 0\n",
    "    b = 1\n",
    "    print(\"Ciąg Fibonacciego dla 93 elementu: \")\n",
    "    for i in range(number):\n",
    "        print(b)\n",
    "        b += a\n",
    "        a = b - a\n",
    "\n",
    "\n",
    "FibonacciSequence(93)"
   ]
  },
  {
   "cell_type": "code",
   "execution_count": 6,
   "metadata": {
    "pycharm": {
     "name": "#%%\n"
    }
   },
   "outputs": [
    {
     "name": "stdout",
     "output_type": "stream",
     "text": [
      "4\n"
     ]
    }
   ],
   "source": [
    "''' zad6\n",
    "Napisz program, który wyznacza odległość Levenshteina dla dwóch zadanych łańcuchów znaków.'''\n",
    "\n",
    "\n",
    "def LevenshteinDistance(word1, word2):\n",
    "    n, m = len(word1), len(word2)\n",
    "    if n > m:\n",
    "        word1, word2 = word2, word1\n",
    "        n, m = m, n\n",
    "\n",
    "    current = range(n + 1)\n",
    "    for i in range(1, m + 1):\n",
    "        previous, current = current, [i] + [0] * m\n",
    "        for j in range(1, n + 1):\n",
    "            add, delete = previous[j] + 1, current[j - 1] + 1\n",
    "            change = previous[j - 1]\n",
    "            if word1[j - 1] != word2[i - 1]:\n",
    "                change = change + 1\n",
    "            current[j] = min(add, delete, change)\n",
    "\n",
    "    return current[n]\n",
    "\n",
    "\n",
    "print(LevenshteinDistance('Patryk', 'Bartek'))"
   ]
  }
 ],
 "metadata": {
  "kernelspec": {
   "display_name": "Python 3",
   "language": "python",
   "name": "python3"
  },
  "language_info": {
   "codemirror_mode": {
    "name": "ipython",
    "version": 3
   },
   "file_extension": ".py",
   "mimetype": "text/x-python",
   "name": "python",
   "nbconvert_exporter": "python",
   "pygments_lexer": "ipython3",
   "version": "3.8.5"
  }
 },
 "nbformat": 4,
 "nbformat_minor": 1
}
